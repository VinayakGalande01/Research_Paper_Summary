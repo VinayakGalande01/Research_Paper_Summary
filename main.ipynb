{
 "cells": [
  {
   "cell_type": "code",
   "execution_count": null,
   "metadata": {},
   "outputs": [],
   "source": [
    "# 📌 Step 1: Loading Required Libraries\n",
    "from langchain_community.document_loaders import PDFPlumberLoader   # For loading PDFs\n",
    "from langchain_text_splitters import RecursiveCharacterTextSplitter # For splitting text\n",
    "from langchain_community.embeddings import HuggingFaceEmbeddings    # FREE embeddings model\n",
    "from langchain_community.vectorstores import FAISS                  # FAISS for vector storage and retrieval"
   ]
  },
  {
   "cell_type": "code",
   "execution_count": 8,
   "metadata": {},
   "outputs": [],
   "source": [
    "# 📌 Step 2: Loading PDF Document\n",
    "# This will extract text from a given PDF file.\n",
    "pdf_path = \"Aromatase Paper.pdf\"\n",
    "loader = PDFPlumberLoader(pdf_path)\n",
    "pdf_documents = loader.load()\n"
   ]
  },
  {
   "cell_type": "code",
   "execution_count": 14,
   "metadata": {},
   "outputs": [],
   "source": [
    "# 📌 Step 3: Spliting Text into Chunks\n",
    "# Many AI models have token limits, so we need to split the text into smaller parts.\n",
    "# This method ensures that important information is not lost by allowing chunk overlap.\n",
    "text_splitter = RecursiveCharacterTextSplitter(chunk_size=4000,chunk_overlap=500)\n",
    "documents = text_splitter.split_documents(pdf_documents)"
   ]
  },
  {
   "cell_type": "code",
   "execution_count": 29,
   "metadata": {},
   "outputs": [],
   "source": [
    "# 📌 Step 4: Generate Embeddings using a FREE Hugging Face Model\n",
    "# OpenAI embeddings require an API key and may have usage limits.\n",
    "# Hugging Face’s \"all-MiniLM-L6-v2\" is a lightweight, efficient, and FREE alternative.\n",
    "embeddings = HuggingFaceEmbeddings(model_name=\"paraphrase-MiniLM-L12-v2\")\n"
   ]
  },
  {
   "cell_type": "code",
   "execution_count": 30,
   "metadata": {},
   "outputs": [],
   "source": [
    "# 📌 Step 5: Store Vectorized Data in FAISS (Fast and Scalable)\n",
    "# FAISS (Facebook AI Similarity Search) is an optimized library for searching embeddings.\n",
    "# It is lightweight and does not require external servers like ChromaDB.\n",
    "db = FAISS.from_documents(documents[:20], embeddings)  # Storing the first 20 document chunks"
   ]
  },
  {
   "cell_type": "code",
   "execution_count": 49,
   "metadata": {},
   "outputs": [],
   "source": [
    "# 📌 Step 6: Perform a Similarity Search\n",
    "# Here, we query the FAISS vector database to find the most relevant document chunk.\n",
    "query = \"What is the paper about?\"\n",
    "result = db.similarity_search(query=query,k=3)"
   ]
  },
  {
   "cell_type": "code",
   "execution_count": 53,
   "metadata": {},
   "outputs": [
    {
     "name": "stdout",
     "output_type": "stream",
     "text": [
      "🔍 FAISS Search Result:\n",
      " new england journal medicine\n",
      "The of\n",
      "ovulation in women with infertility.34 The data in\n",
      "the current review, however, pertain solely to post-\n",
      "Androstenedione Testosterone\n",
      "menopausal women.\n",
      "Peripheral tissues (subcutaneous\n",
      "fat, liver, muscle, or brain) clinical development\n",
      "and pharmacology\n",
      "Aromatase\n",
      "Aromatase Aromatase\n",
      "inhibitors\n",
      "Aminoglutethimide, the first aromatase inhibitor,\n",
      "was initially developed as an anticonvulsant but was\n",
      "withdrawn from use after reports of adrenal insuf-\n",
      "Estrone\n",
      "ficiency. It was subsequently found to inhibit several\n",
      "cytochrome P-450 enzymes involved in adrenal ste-\n",
      "Estradiol roidogenesis and was then redeveloped for use as\n",
      "“medical adrenalectomy” against advanced breast\n",
      "cancer.35,36 Side effects, including drowsiness and\n",
      "Tamoxifen rash, limited its use, but the disc\n"
     ]
    }
   ],
   "source": [
    "# 📌 Step 7: Display the Most Relevant Search Result\n",
    "# Limit response to 800 characters (can be adjusted as needed)\n",
    "short_response = result[0].page_content[:800]\n",
    "print(\"🔍 FAISS Search Result:\\n\", short_response)"
   ]
  },
  {
   "cell_type": "code",
   "execution_count": 6,
   "metadata": {},
   "outputs": [],
   "source": [
    "# Limiting resonses as needed."
   ]
  },
  {
   "cell_type": "code",
   "execution_count": 47,
   "metadata": {},
   "outputs": [],
   "source": [
    "query = \"What is breast cancer ?\"\n",
    "result = db.similarity_search(query=query,k=1)"
   ]
  },
  {
   "cell_type": "code",
   "execution_count": 48,
   "metadata": {},
   "outputs": [
    {
     "name": "stdout",
     "output_type": "stream",
     "text": [
      "🔍 FAISS Search Result:\n",
      " gery63,64 (Table 2). large, estrogen-receptor–positive cancers.\n",
      "There was also an unexpected and potentially\n",
      "important finding in a subgroup of patients whose Adjuvant Therapy\n",
      "tumors were available for further analysis: of 17 pa- Tamoxifen given for approximately five years after\n",
      "tients whose tumors overexpressed the cell-surface surgery to patients with early, estrogen-receptor–\n",
      "growth factor receptor c-ErbB-2 (HER2), c-ErbB-1 positive breast cancer is the current standard of care\n",
      "(epidermal growth factor receptor [EGFR]) or both, worldwide. This approach reduces the risk of death\n",
      "15 (88 percent) had a response to letrozole, as com- by about 25 percent, a reduction that translates\n",
      "pared with only 4 of 19 (21 percent) with a response into an absolute improvement in 10-year survival\n",
      "to tamoxifen (Table 2).64 These findings are consis- of more than 10 percent for patients with involved\n",
      "tent with the in vitro and in vivo observations that nodes and 5 percent for those without.13 This seem-\n",
      "MCF-7 breast cancer cells and xenografts transfect- ingly limited increase translates into many thou-\n",
      "ed with the c-erbB-2 gene do not grow without estro- sands of lives saved annually and almost certainly\n",
      "gen, whereas their growth continues in the presence has contributed to the decline in mortality from\n",
      "n engl j med 348;24 www.nejm.org june 12, 2003 2435\n",
      "Downloaded from www.nejm.org at WRIGHT STATE UNIVERSITY on September 19, 2005 .\n",
      "Copyright © 2003 Massachusetts Medical Society. All rights reserved.\n"
     ]
    }
   ],
   "source": [
    "print(\"🔍 FAISS Search Result:\\n\", result[0].page_content)"
   ]
  },
  {
   "cell_type": "code",
   "execution_count": null,
   "metadata": {},
   "outputs": [],
   "source": []
  }
 ],
 "metadata": {
  "kernelspec": {
   "display_name": "env",
   "language": "python",
   "name": "python3"
  },
  "language_info": {
   "codemirror_mode": {
    "name": "ipython",
    "version": 3
   },
   "file_extension": ".py",
   "mimetype": "text/x-python",
   "name": "python",
   "nbconvert_exporter": "python",
   "pygments_lexer": "ipython3",
   "version": "3.12.2"
  }
 },
 "nbformat": 4,
 "nbformat_minor": 2
}
